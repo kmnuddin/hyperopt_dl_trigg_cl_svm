{
 "cells": [
  {
   "cell_type": "code",
   "execution_count": 11,
   "metadata": {},
   "outputs": [],
   "source": [
    "from hyperopt_svm import run_svm\n",
    "from sklearn.model_selection import train_test_split\n",
    "from sklearn.preprocessing import MinMaxScaler\n",
    "from sklearn.metrics import confusion_matrix\n",
    "import pandas as pd\n",
    "import numpy as np\n",
    "from utils.helper import Helper\n",
    "import matplotlib.pyplot as plt\n",
    "from matplotlib import cm\n",
    "import seaborn as sn"
   ]
  },
  {
   "cell_type": "markdown",
   "metadata": {},
   "source": [
    "## 1vs3 SVM Best Model"
   ]
  },
  {
   "cell_type": "code",
   "execution_count": 13,
   "metadata": {},
   "outputs": [
    {
     "name": "stdout",
     "output_type": "stream",
     "text": [
      "Data Transformed\n"
     ]
    }
   ],
   "source": [
    "data = pd.read_csv(\"data_1vs3/data_1vs3.csv\", header=None).values\n",
    "labels = np.ravel(pd.read_csv(\"data_1vs3/labels_1vs3.csv\", header=None).values)\n",
    "\n",
    "scaler = MinMaxScaler()\n",
    "\n",
    "data = scaler.fit_transform(data)\n",
    "\n",
    "print('Data Transformed')\n",
    "\n",
    "x_train, x_test, y_train, y_test = train_test_split(data, labels, test_size=0.2, random_state=33)"
   ]
  },
  {
   "cell_type": "code",
   "execution_count": 14,
   "metadata": {},
   "outputs": [],
   "source": [
    "h = Helper('results/1vs3')\n",
    "best_result = h.load_best_hyperspace()"
   ]
  },
  {
   "cell_type": "code",
   "execution_count": 15,
   "metadata": {},
   "outputs": [
    {
     "data": {
      "text/plain": [
       "{'C': 2719.7221457078226,\n",
       " 'acc': 0.8192727272727273,\n",
       " 'degree': 1,\n",
       " 'gamma': 'scale',\n",
       " 'kernel': 'rbf',\n",
       " 'loss': -0.8192727272727273,\n",
       " 'mse': 0.18072727272727274,\n",
       " 'status': 'ok'}"
      ]
     },
     "execution_count": 15,
     "metadata": {},
     "output_type": "execute_result"
    }
   ],
   "source": [
    "best_result"
   ]
  },
  {
   "cell_type": "code",
   "execution_count": 16,
   "metadata": {},
   "outputs": [
    {
     "name": "stdout",
     "output_type": "stream",
     "text": [
      "{\n",
      "    \"C\": 2719.7221457078226,\n",
      "    \"acc\": 0.8288,\n",
      "    \"degree\": 1,\n",
      "    \"gamma\": \"scale\",\n",
      "    \"kernel\": \"rbf\",\n",
      "    \"loss\": -0.8288,\n",
      "    \"mse\": 0.1712,\n",
      "    \"status\": \"ok\"\n",
      "}\n"
     ]
    }
   ],
   "source": [
    "space = {\n",
    "    'data': {\n",
    "        'type': '1vs3',\n",
    "\n",
    "        'x_train': x_train,\n",
    "        'x_test': x_test,\n",
    "        'y_train': y_train,\n",
    "        'y_test': y_test\n",
    "    },\n",
    "    'params': {\n",
    "        'C': best_result['C'],\n",
    "        'kernel': best_result['kernel'],\n",
    "        'degree': best_result['degree'],\n",
    "        'gamma': best_result['gamma']\n",
    "    }\n",
    "}\n",
    "\n",
    "results, svc, cr = run_svm(space)"
   ]
  },
  {
   "cell_type": "code",
   "execution_count": 17,
   "metadata": {},
   "outputs": [
    {
     "name": "stdout",
     "output_type": "stream",
     "text": [
      "              precision    recall  f1-score   support\n",
      "\n",
      "         0.0       0.83      0.83      0.83      4989\n",
      "         1.0       0.83      0.83      0.83      5011\n",
      "\n",
      "    accuracy                           0.83     10000\n",
      "   macro avg       0.83      0.83      0.83     10000\n",
      "weighted avg       0.83      0.83      0.83     10000\n",
      "\n"
     ]
    }
   ],
   "source": [
    "print(cr)"
   ]
  },
  {
   "cell_type": "code",
   "execution_count": 18,
   "metadata": {},
   "outputs": [],
   "source": [
    "y_pred = svc.predict(x_test)"
   ]
  },
  {
   "cell_type": "code",
   "execution_count": 19,
   "metadata": {},
   "outputs": [
    {
     "data": {
      "image/png": "[encoded data removed]",
      "text/plain": [
       "<Figure size 432x288 with 1 Axes>"
      ]
     },
     "metadata": {
      "needs_background": "light"
     },
     "output_type": "display_data"
    }
   ],
   "source": [
    "ax= plt.subplot()\n",
    "sn.heatmap(confusion_matrix(y_test, y_pred), \n",
    "           annot=True, fmt='g', cmap=cm.RdBu_r, ax = ax, cbar=False)\n",
    "\n",
    "ax.set_xlabel('Predicted labels');ax.set_ylabel('True labels'); \n",
    "ax.set_title('Confusion Matrix'); \n",
    "ax.xaxis.set_ticklabels(['trigg 1', 'trigg 3']); ax.yaxis.set_ticklabels(['trigg 1', 'trigg 3']);"
   ]
  },
  {
   "cell_type": "markdown",
   "metadata": {},
   "source": [
    "## 1vs5 SVM Best Model"
   ]
  },
  {
   "cell_type": "code",
   "execution_count": 21,
   "metadata": {},
   "outputs": [
    {
     "name": "stdout",
     "output_type": "stream",
     "text": [
      "Data Transformed\n"
     ]
    }
   ],
   "source": [
    "data = pd.read_csv(\"data_1vs5/data_1vs5.csv\", header=None).values\n",
    "labels = np.ravel(pd.read_csv(\"data_1vs5/labels_1vs5.csv\", header=None).values)\n",
    "\n",
    "scaler = MinMaxScaler()\n",
    "\n",
    "data = scaler.fit_transform(data)\n",
    "\n",
    "print('Data Transformed')\n",
    "\n",
    "x_train, x_test, y_train, y_test = train_test_split(data, labels, test_size=0.2, random_state=33)"
   ]
  },
  {
   "cell_type": "code",
   "execution_count": 24,
   "metadata": {},
   "outputs": [
    {
     "data": {
      "text/plain": [
       "{'C': 1194.8331703583697,\n",
       " 'acc': 0.8281818181818181,\n",
       " 'degree': 3,\n",
       " 'gamma': 'scale',\n",
       " 'kernel': 'rbf',\n",
       " 'loss': -0.8281818181818181,\n",
       " 'mse': 0.17181818181818181,\n",
       " 'status': 'ok'}"
      ]
     },
     "execution_count": 24,
     "metadata": {},
     "output_type": "execute_result"
    }
   ],
   "source": [
    "h = Helper('results/1vs5')\n",
    "best_result = h.load_best_hyperspace()\n",
    "best_result"
   ]
  },
  {
   "cell_type": "code",
   "execution_count": 25,
   "metadata": {},
   "outputs": [
    {
     "name": "stdout",
     "output_type": "stream",
     "text": [
      "{\n",
      "    \"C\": 1194.8331703583697,\n",
      "    \"acc\": 0.8321,\n",
      "    \"degree\": 3,\n",
      "    \"gamma\": \"scale\",\n",
      "    \"kernel\": \"rbf\",\n",
      "    \"loss\": -0.8321,\n",
      "    \"mse\": 0.1679,\n",
      "    \"status\": \"ok\"\n",
      "}\n",
      "              precision    recall  f1-score   support\n",
      "\n",
      "         0.0       0.83      0.84      0.83      4989\n",
      "         1.0       0.84      0.83      0.83      5011\n",
      "\n",
      "    accuracy                           0.83     10000\n",
      "   macro avg       0.83      0.83      0.83     10000\n",
      "weighted avg       0.83      0.83      0.83     10000\n",
      "\n"
     ]
    },
    {
     "data": {
      "image/png": "[encoded data removed]",
      "text/plain": [
       "<Figure size 432x288 with 1 Axes>"
      ]
     },
     "metadata": {
      "needs_background": "light"
     },
     "output_type": "display_data"
    }
   ],
   "source": [
    "space = {\n",
    "    'data': {\n",
    "        'type': '1vs5',\n",
    "\n",
    "        'x_train': x_train,\n",
    "        'x_test': x_test,\n",
    "        'y_train': y_train,\n",
    "        'y_test': y_test\n",
    "    },\n",
    "    'params': {\n",
    "        'C': best_result['C'],\n",
    "        'kernel': best_result['kernel'],\n",
    "        'degree': best_result['degree'],\n",
    "        'gamma': best_result['gamma']\n",
    "    }\n",
    "}\n",
    "\n",
    "results, svc, cr = run_svm(space)\n",
    "\n",
    "print(cr)\n",
    "\n",
    "y_pred = svc.predict(x_test)\n",
    "\n",
    "ax= plt.subplot()\n",
    "sn.heatmap(confusion_matrix(y_test, y_pred), \n",
    "           annot=True, fmt='g', cmap=cm.RdBu_r, ax = ax, cbar=False)\n",
    "\n",
    "ax.set_xlabel('Predicted labels');ax.set_ylabel('True labels'); \n",
    "ax.set_title('Confusion Matrix'); \n",
    "ax.xaxis.set_ticklabels(['trigg 1', 'trigg 5']); ax.yaxis.set_ticklabels(['trigg 1', 'trigg 5']);"
   ]
  },
  {
   "cell_type": "markdown",
   "metadata": {},
   "source": [
    "## 15vs3 SVM Best Model"
   ]
  },
  {
   "cell_type": "code",
   "execution_count": 26,
   "metadata": {},
   "outputs": [
    {
     "name": "stdout",
     "output_type": "stream",
     "text": [
      "Data Transformed\n"
     ]
    }
   ],
   "source": [
    "data = pd.read_csv(\"data_15vs3/data.csv\", header=None).values\n",
    "labels = np.ravel(pd.read_csv(\"data_15vs3/labels.csv\", header=None).values)\n",
    "\n",
    "scaler = MinMaxScaler()\n",
    "\n",
    "data = scaler.fit_transform(data)\n",
    "\n",
    "print('Data Transformed')\n",
    "\n",
    "x_train, x_test, y_train, y_test = train_test_split(data, labels, test_size=0.2, random_state=33)"
   ]
  },
  {
   "cell_type": "code",
   "execution_count": 27,
   "metadata": {},
   "outputs": [
    {
     "data": {
      "text/plain": [
       "{'C': 30968.646779271585,\n",
       " 'acc': 0.7671515151515151,\n",
       " 'degree': 10,\n",
       " 'gamma': 'scale',\n",
       " 'kernel': 'rbf',\n",
       " 'loss': -0.7671515151515151,\n",
       " 'mse': 0.23284848484848486,\n",
       " 'status': 'ok'}"
      ]
     },
     "execution_count": 27,
     "metadata": {},
     "output_type": "execute_result"
    }
   ],
   "source": [
    "h = Helper('results/15vs3')\n",
    "best_result = h.load_best_hyperspace()\n",
    "best_result"
   ]
  },
  {
   "cell_type": "code",
   "execution_count": 30,
   "metadata": {},
   "outputs": [
    {
     "name": "stdout",
     "output_type": "stream",
     "text": [
      "              precision    recall  f1-score   support\n",
      "\n",
      "         0.0       0.79      0.76      0.77      4989\n",
      "         1.0       0.77      0.79      0.78      5011\n",
      "\n",
      "    accuracy                           0.78     10000\n",
      "   macro avg       0.78      0.78      0.78     10000\n",
      "weighted avg       0.78      0.78      0.78     10000\n",
      "\n"
     ]
    }
   ],
   "source": [
    "space = {\n",
    "    'data': {\n",
    "        'type': '15vs3',\n",
    "\n",
    "        'x_train': x_train,\n",
    "        'x_test': x_test,\n",
    "        'y_train': y_train,\n",
    "        'y_test': y_test\n",
    "    },\n",
    "    'params': {\n",
    "        'C': best_result['C'],\n",
    "        'kernel': best_result['kernel'],\n",
    "        'degree': best_result['degree'],\n",
    "        'gamma': best_result['gamma']\n",
    "    }\n",
    "}\n",
    "\n",
    "# results, svc, cr = run_svm(space)\n",
    "\n",
    "print(cr)\n",
    "\n",
    "# y_pred = svc.predict(x_test)"
   ]
  },
  {
   "cell_type": "code",
   "execution_count": 29,
   "metadata": {},
   "outputs": [
    {
     "data": {
      "image/png": "[encoded data removed]",
      "text/plain": [
       "<Figure size 432x288 with 1 Axes>"
      ]
     },
     "metadata": {
      "needs_background": "light"
     },
     "output_type": "display_data"
    }
   ],
   "source": [
    "ax= plt.subplot()\n",
    "sn.heatmap(confusion_matrix(y_test, y_pred), \n",
    "           annot=True, fmt='g', cmap=cm.RdBu_r, ax = ax, cbar=False)\n",
    "\n",
    "ax.set_xlabel('Predicted labels');ax.set_ylabel('True labels'); \n",
    "ax.set_title('Confusion Matrix'); \n",
    "ax.xaxis.set_ticklabels(['trigg 3', 'trigg 15']); ax.yaxis.set_ticklabels(['trigg 3', 'trigg 15']);"
   ]
  }
 ],
 "metadata": {
  "kernelspec": {
   "display_name": "Python 3",
   "language": "python",
   "name": "python3"
  },
  "language_info": {
   "codemirror_mode": {
    "name": "ipython",
    "version": 3
   },
   "file_extension": ".py",
   "mimetype": "text/x-python",
   "name": "python",
   "nbconvert_exporter": "python",
   "pygments_lexer": "ipython3",
   "version": "3.7.4"
  }
 },
 "nbformat": 4,
 "nbformat_minor": 2
}
